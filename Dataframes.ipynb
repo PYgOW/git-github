{
 "cells": [
  {
   "cell_type": "code",
   "execution_count": 2,
   "metadata": {},
   "outputs": [],
   "source": [
    "import pandas as pd "
   ]
  },
  {
   "cell_type": "code",
   "execution_count": 3,
   "metadata": {},
   "outputs": [],
   "source": [
    "import numpy as np"
   ]
  },
  {
   "cell_type": "code",
   "execution_count": null,
   "metadata": {},
   "outputs": [],
   "source": []
  },
  {
   "cell_type": "code",
   "execution_count": null,
   "metadata": {},
   "outputs": [],
   "source": []
  },
  {
   "cell_type": "code",
   "execution_count": 6,
   "metadata": {},
   "outputs": [],
   "source": [
    "import matplotlib"
   ]
  },
  {
   "cell_type": "markdown",
   "metadata": {},
   "source": [
    "The difference between numpy array and series object is labelling. Numpy arrary is not labeld\n"
   ]
  },
  {
   "cell_type": "markdown",
   "metadata": {},
   "source": [
    "# Single dimensional data structures\n",
    "\n",
    "\n",
    "# "
   ]
  },
  {
   "cell_type": "code",
   "execution_count": null,
   "metadata": {},
   "outputs": [],
   "source": []
  },
  {
   "cell_type": "code",
   "execution_count": 5,
   "metadata": {},
   "outputs": [
    {
     "data": {
      "text/plain": [
       "a    10.0\n",
       "b    20.0\n",
       "c    30.0\n",
       "d    40.0\n",
       "e    50.0\n",
       "f    60.8\n",
       "dtype: float64"
      ]
     },
     "execution_count": 5,
     "metadata": {},
     "output_type": "execute_result"
    }
   ],
   "source": [
    "s1 = pd.Series([10,20,30,40,50,60.8], index=['a','b','c','d','e','f'])\n",
    "s1"
   ]
  },
  {
   "cell_type": "code",
   "execution_count": 9,
   "metadata": {},
   "outputs": [],
   "source": [
    "d2 = {'k1':10,'k2':20,'k3':30}  #Dictinary"
   ]
  },
  {
   "cell_type": "code",
   "execution_count": 10,
   "metadata": {},
   "outputs": [
    {
     "data": {
      "text/plain": [
       "k1    10\n",
       "k2    20\n",
       "k3    30\n",
       "dtype: int64"
      ]
     },
     "execution_count": 10,
     "metadata": {},
     "output_type": "execute_result"
    }
   ],
   "source": [
    "s2 = pd.Series(d2)\n",
    "s2"
   ]
  },
  {
   "cell_type": "markdown",
   "metadata": {},
   "source": [
    "# Data frame is an n Dimensional labelled data structure"
   ]
  },
  {
   "cell_type": "code",
   "execution_count": 22,
   "metadata": {},
   "outputs": [],
   "source": [
    "Toppers_C7 = pd.DataFrame({\"Name\":['Sahvan','Sowm','Samuel'], \"Marks\":[100,100,100]})"
   ]
  },
  {
   "cell_type": "code",
   "execution_count": null,
   "metadata": {},
   "outputs": [],
   "source": []
  },
  {
   "cell_type": "code",
   "execution_count": 23,
   "metadata": {},
   "outputs": [
    {
     "data": {
      "text/html": [
       "<div>\n",
       "<style scoped>\n",
       "    .dataframe tbody tr th:only-of-type {\n",
       "        vertical-align: middle;\n",
       "    }\n",
       "\n",
       "    .dataframe tbody tr th {\n",
       "        vertical-align: top;\n",
       "    }\n",
       "\n",
       "    .dataframe thead th {\n",
       "        text-align: right;\n",
       "    }\n",
       "</style>\n",
       "<table border=\"1\" class=\"dataframe\">\n",
       "  <thead>\n",
       "    <tr style=\"text-align: right;\">\n",
       "      <th></th>\n",
       "      <th>Name</th>\n",
       "      <th>Marks</th>\n",
       "    </tr>\n",
       "  </thead>\n",
       "  <tbody>\n",
       "    <tr>\n",
       "      <th>0</th>\n",
       "      <td>Sathya</td>\n",
       "      <td>100</td>\n",
       "    </tr>\n",
       "    <tr>\n",
       "      <th>1</th>\n",
       "      <td>Sowmya</td>\n",
       "      <td>100</td>\n",
       "    </tr>\n",
       "    <tr>\n",
       "      <th>2</th>\n",
       "      <td>Sita</td>\n",
       "      <td>100</td>\n",
       "    </tr>\n",
       "  </tbody>\n",
       "</table>\n",
       "</div>"
      ],
      "text/plain": [
       "     Name  Marks\n",
       "0  Sathya    100\n",
       "1  Sowmya    100\n",
       "2    Sita    100"
      ]
     },
     "execution_count": 23,
     "metadata": {},
     "output_type": "execute_result"
    }
   ],
   "source": [
    "Toppers_C7"
   ]
  },
  {
   "cell_type": "code",
   "execution_count": 26,
   "metadata": {},
   "outputs": [],
   "source": [
    "Obesity_data = pd.read_csv('Obesity_Migrated Data.csv')"
   ]
  },
  {
   "cell_type": "code",
   "execution_count": 41,
   "metadata": {},
   "outputs": [
    {
     "data": {
      "text/html": [
       "<div>\n",
       "<style scoped>\n",
       "    .dataframe tbody tr th:only-of-type {\n",
       "        vertical-align: middle;\n",
       "    }\n",
       "\n",
       "    .dataframe tbody tr th {\n",
       "        vertical-align: top;\n",
       "    }\n",
       "\n",
       "    .dataframe thead th {\n",
       "        text-align: right;\n",
       "    }\n",
       "</style>\n",
       "<table border=\"1\" class=\"dataframe\">\n",
       "  <thead>\n",
       "    <tr style=\"text-align: right;\">\n",
       "      <th></th>\n",
       "      <th>County</th>\n",
       "      <th>Region</th>\n",
       "      <th>State</th>\n",
       "      <th>Adult Obesity (% of pop)</th>\n",
       "      <th>Adult Smokers (% of pop)</th>\n",
       "      <th>Children in Poverty (% of pop)</th>\n",
       "      <th>Diabetic (% of pop)</th>\n",
       "      <th>Food Insecure (% of pop)</th>\n",
       "      <th>Number of Records</th>\n",
       "      <th>Physically Inactive (% of pop)</th>\n",
       "    </tr>\n",
       "  </thead>\n",
       "  <tbody>\n",
       "    <tr>\n",
       "      <th>0</th>\n",
       "      <td>Adams</td>\n",
       "      <td>Midwest</td>\n",
       "      <td>Illinois</td>\n",
       "      <td>35%</td>\n",
       "      <td>16%</td>\n",
       "      <td>20%</td>\n",
       "      <td>10%</td>\n",
       "      <td>13%</td>\n",
       "      <td>1</td>\n",
       "      <td>24%</td>\n",
       "    </tr>\n",
       "    <tr>\n",
       "      <th>1</th>\n",
       "      <td>Alexander</td>\n",
       "      <td>Midwest</td>\n",
       "      <td>Illinois</td>\n",
       "      <td>32%</td>\n",
       "      <td>24%</td>\n",
       "      <td>52%</td>\n",
       "      <td>16%</td>\n",
       "      <td>22%</td>\n",
       "      <td>1</td>\n",
       "      <td>30%</td>\n",
       "    </tr>\n",
       "    <tr>\n",
       "      <th>2</th>\n",
       "      <td>Bond</td>\n",
       "      <td>Midwest</td>\n",
       "      <td>Illinois</td>\n",
       "      <td>31%</td>\n",
       "      <td>17%</td>\n",
       "      <td>21%</td>\n",
       "      <td>10%</td>\n",
       "      <td>13%</td>\n",
       "      <td>1</td>\n",
       "      <td>26%</td>\n",
       "    </tr>\n",
       "    <tr>\n",
       "      <th>3</th>\n",
       "      <td>Boone</td>\n",
       "      <td>Midwest</td>\n",
       "      <td>Illinois</td>\n",
       "      <td>34%</td>\n",
       "      <td>16%</td>\n",
       "      <td>15%</td>\n",
       "      <td>10%</td>\n",
       "      <td>11%</td>\n",
       "      <td>1</td>\n",
       "      <td>24%</td>\n",
       "    </tr>\n",
       "    <tr>\n",
       "      <th>4</th>\n",
       "      <td>Brown</td>\n",
       "      <td>Midwest</td>\n",
       "      <td>Illinois</td>\n",
       "      <td>32%</td>\n",
       "      <td>16%</td>\n",
       "      <td>15%</td>\n",
       "      <td>8%</td>\n",
       "      <td>12%</td>\n",
       "      <td>1</td>\n",
       "      <td>27%</td>\n",
       "    </tr>\n",
       "  </tbody>\n",
       "</table>\n",
       "</div>"
      ],
      "text/plain": [
       "      County   Region     State Adult Obesity (% of pop)  \\\n",
       "0      Adams  Midwest  Illinois                      35%   \n",
       "1  Alexander  Midwest  Illinois                      32%   \n",
       "2       Bond  Midwest  Illinois                      31%   \n",
       "3      Boone  Midwest  Illinois                      34%   \n",
       "4      Brown  Midwest  Illinois                      32%   \n",
       "\n",
       "  Adult Smokers (% of pop) Children in Poverty (% of pop) Diabetic (% of pop)  \\\n",
       "0                      16%                            20%                 10%   \n",
       "1                      24%                            52%                 16%   \n",
       "2                      17%                            21%                 10%   \n",
       "3                      16%                            15%                 10%   \n",
       "4                      16%                            15%                  8%   \n",
       "\n",
       "  Food Insecure (% of pop)  Number of Records Physically Inactive (% of pop)  \n",
       "0                      13%                  1                            24%  \n",
       "1                      22%                  1                            30%  \n",
       "2                      13%                  1                            26%  \n",
       "3                      11%                  1                            24%  \n",
       "4                      12%                  1                            27%  "
      ]
     },
     "execution_count": 41,
     "metadata": {},
     "output_type": "execute_result"
    }
   ],
   "source": [
    "Obesity_data.head()"
   ]
  },
  {
   "cell_type": "code",
   "execution_count": 34,
   "metadata": {},
   "outputs": [
    {
     "data": {
      "text/html": [
       "<div>\n",
       "<style scoped>\n",
       "    .dataframe tbody tr th:only-of-type {\n",
       "        vertical-align: middle;\n",
       "    }\n",
       "\n",
       "    .dataframe tbody tr th {\n",
       "        vertical-align: top;\n",
       "    }\n",
       "\n",
       "    .dataframe thead th {\n",
       "        text-align: right;\n",
       "    }\n",
       "</style>\n",
       "<table border=\"1\" class=\"dataframe\">\n",
       "  <thead>\n",
       "    <tr style=\"text-align: right;\">\n",
       "      <th></th>\n",
       "      <th>County</th>\n",
       "      <th>Region</th>\n",
       "      <th>State</th>\n",
       "      <th>Adult Obesity (% of pop)</th>\n",
       "      <th>Adult Smokers (% of pop)</th>\n",
       "      <th>Children in Poverty (% of pop)</th>\n",
       "      <th>Diabetic (% of pop)</th>\n",
       "      <th>Food Insecure (% of pop)</th>\n",
       "      <th>Number of Records</th>\n",
       "      <th>Physically Inactive (% of pop)</th>\n",
       "    </tr>\n",
       "  </thead>\n",
       "  <tbody>\n",
       "    <tr>\n",
       "      <th>0</th>\n",
       "      <td>Adams</td>\n",
       "      <td>Midwest</td>\n",
       "      <td>Illinois</td>\n",
       "      <td>35%</td>\n",
       "      <td>16%</td>\n",
       "      <td>20%</td>\n",
       "      <td>10%</td>\n",
       "      <td>13%</td>\n",
       "      <td>1</td>\n",
       "      <td>24%</td>\n",
       "    </tr>\n",
       "    <tr>\n",
       "      <th>1</th>\n",
       "      <td>Alexander</td>\n",
       "      <td>Midwest</td>\n",
       "      <td>Illinois</td>\n",
       "      <td>32%</td>\n",
       "      <td>24%</td>\n",
       "      <td>52%</td>\n",
       "      <td>16%</td>\n",
       "      <td>22%</td>\n",
       "      <td>1</td>\n",
       "      <td>30%</td>\n",
       "    </tr>\n",
       "    <tr>\n",
       "      <th>2</th>\n",
       "      <td>Bond</td>\n",
       "      <td>Midwest</td>\n",
       "      <td>Illinois</td>\n",
       "      <td>31%</td>\n",
       "      <td>17%</td>\n",
       "      <td>21%</td>\n",
       "      <td>10%</td>\n",
       "      <td>13%</td>\n",
       "      <td>1</td>\n",
       "      <td>26%</td>\n",
       "    </tr>\n",
       "    <tr>\n",
       "      <th>3</th>\n",
       "      <td>Boone</td>\n",
       "      <td>Midwest</td>\n",
       "      <td>Illinois</td>\n",
       "      <td>34%</td>\n",
       "      <td>16%</td>\n",
       "      <td>15%</td>\n",
       "      <td>10%</td>\n",
       "      <td>11%</td>\n",
       "      <td>1</td>\n",
       "      <td>24%</td>\n",
       "    </tr>\n",
       "    <tr>\n",
       "      <th>4</th>\n",
       "      <td>Brown</td>\n",
       "      <td>Midwest</td>\n",
       "      <td>Illinois</td>\n",
       "      <td>32%</td>\n",
       "      <td>16%</td>\n",
       "      <td>15%</td>\n",
       "      <td>8%</td>\n",
       "      <td>12%</td>\n",
       "      <td>1</td>\n",
       "      <td>27%</td>\n",
       "    </tr>\n",
       "    <tr>\n",
       "      <th>5</th>\n",
       "      <td>Bureau</td>\n",
       "      <td>Midwest</td>\n",
       "      <td>Illinois</td>\n",
       "      <td>30%</td>\n",
       "      <td>15%</td>\n",
       "      <td>20%</td>\n",
       "      <td>10%</td>\n",
       "      <td>12%</td>\n",
       "      <td>1</td>\n",
       "      <td>28%</td>\n",
       "    </tr>\n",
       "    <tr>\n",
       "      <th>6</th>\n",
       "      <td>Calhoun</td>\n",
       "      <td>Midwest</td>\n",
       "      <td>Illinois</td>\n",
       "      <td>30%</td>\n",
       "      <td>15%</td>\n",
       "      <td>16%</td>\n",
       "      <td>10%</td>\n",
       "      <td>13%</td>\n",
       "      <td>1</td>\n",
       "      <td>30%</td>\n",
       "    </tr>\n",
       "    <tr>\n",
       "      <th>7</th>\n",
       "      <td>Carroll</td>\n",
       "      <td>Midwest</td>\n",
       "      <td>Illinois</td>\n",
       "      <td>32%</td>\n",
       "      <td>15%</td>\n",
       "      <td>20%</td>\n",
       "      <td>11%</td>\n",
       "      <td>13%</td>\n",
       "      <td>1</td>\n",
       "      <td>27%</td>\n",
       "    </tr>\n",
       "    <tr>\n",
       "      <th>8</th>\n",
       "      <td>Cass</td>\n",
       "      <td>Midwest</td>\n",
       "      <td>Illinois</td>\n",
       "      <td>29%</td>\n",
       "      <td>16%</td>\n",
       "      <td>19%</td>\n",
       "      <td>10%</td>\n",
       "      <td>12%</td>\n",
       "      <td>1</td>\n",
       "      <td>25%</td>\n",
       "    </tr>\n",
       "    <tr>\n",
       "      <th>9</th>\n",
       "      <td>Champaign</td>\n",
       "      <td>Midwest</td>\n",
       "      <td>Illinois</td>\n",
       "      <td>27%</td>\n",
       "      <td>17%</td>\n",
       "      <td>24%</td>\n",
       "      <td>8%</td>\n",
       "      <td>17%</td>\n",
       "      <td>1</td>\n",
       "      <td>21%</td>\n",
       "    </tr>\n",
       "  </tbody>\n",
       "</table>\n",
       "</div>"
      ],
      "text/plain": [
       "      County   Region     State Adult Obesity (% of pop)  \\\n",
       "0      Adams  Midwest  Illinois                      35%   \n",
       "1  Alexander  Midwest  Illinois                      32%   \n",
       "2       Bond  Midwest  Illinois                      31%   \n",
       "3      Boone  Midwest  Illinois                      34%   \n",
       "4      Brown  Midwest  Illinois                      32%   \n",
       "5     Bureau  Midwest  Illinois                      30%   \n",
       "6    Calhoun  Midwest  Illinois                      30%   \n",
       "7    Carroll  Midwest  Illinois                      32%   \n",
       "8       Cass  Midwest  Illinois                      29%   \n",
       "9  Champaign  Midwest  Illinois                      27%   \n",
       "\n",
       "  Adult Smokers (% of pop) Children in Poverty (% of pop) Diabetic (% of pop)  \\\n",
       "0                      16%                            20%                 10%   \n",
       "1                      24%                            52%                 16%   \n",
       "2                      17%                            21%                 10%   \n",
       "3                      16%                            15%                 10%   \n",
       "4                      16%                            15%                  8%   \n",
       "5                      15%                            20%                 10%   \n",
       "6                      15%                            16%                 10%   \n",
       "7                      15%                            20%                 11%   \n",
       "8                      16%                            19%                 10%   \n",
       "9                      17%                            24%                  8%   \n",
       "\n",
       "  Food Insecure (% of pop)  Number of Records Physically Inactive (% of pop)  \n",
       "0                      13%                  1                            24%  \n",
       "1                      22%                  1                            30%  \n",
       "2                      13%                  1                            26%  \n",
       "3                      11%                  1                            24%  \n",
       "4                      12%                  1                            27%  \n",
       "5                      12%                  1                            28%  \n",
       "6                      13%                  1                            30%  \n",
       "7                      13%                  1                            27%  \n",
       "8                      12%                  1                            25%  \n",
       "9                      17%                  1                            21%  "
      ]
     },
     "execution_count": 34,
     "metadata": {},
     "output_type": "execute_result"
    }
   ],
   "source": [
    "Obesity_data.head(10)"
   ]
  },
  {
   "cell_type": "code",
   "execution_count": 29,
   "metadata": {},
   "outputs": [
    {
     "data": {
      "text/html": [
       "<div>\n",
       "<style scoped>\n",
       "    .dataframe tbody tr th:only-of-type {\n",
       "        vertical-align: middle;\n",
       "    }\n",
       "\n",
       "    .dataframe tbody tr th {\n",
       "        vertical-align: top;\n",
       "    }\n",
       "\n",
       "    .dataframe thead th {\n",
       "        text-align: right;\n",
       "    }\n",
       "</style>\n",
       "<table border=\"1\" class=\"dataframe\">\n",
       "  <thead>\n",
       "    <tr style=\"text-align: right;\">\n",
       "      <th></th>\n",
       "      <th>County</th>\n",
       "      <th>Region</th>\n",
       "      <th>State</th>\n",
       "      <th>Adult Obesity (% of pop)</th>\n",
       "      <th>Adult Smokers (% of pop)</th>\n",
       "      <th>Children in Poverty (% of pop)</th>\n",
       "      <th>Diabetic (% of pop)</th>\n",
       "      <th>Food Insecure (% of pop)</th>\n",
       "      <th>Number of Records</th>\n",
       "      <th>Physically Inactive (% of pop)</th>\n",
       "    </tr>\n",
       "  </thead>\n",
       "  <tbody>\n",
       "    <tr>\n",
       "      <th>3131</th>\n",
       "      <td>Sheridan</td>\n",
       "      <td>West</td>\n",
       "      <td>Wyoming</td>\n",
       "      <td>25%</td>\n",
       "      <td>16%</td>\n",
       "      <td>13%</td>\n",
       "      <td>9%</td>\n",
       "      <td>13%</td>\n",
       "      <td>1</td>\n",
       "      <td>22%</td>\n",
       "    </tr>\n",
       "    <tr>\n",
       "      <th>3132</th>\n",
       "      <td>Johnson</td>\n",
       "      <td>West</td>\n",
       "      <td>Wyoming</td>\n",
       "      <td>23%</td>\n",
       "      <td>15%</td>\n",
       "      <td>12%</td>\n",
       "      <td>9%</td>\n",
       "      <td>13%</td>\n",
       "      <td>1</td>\n",
       "      <td>24%</td>\n",
       "    </tr>\n",
       "    <tr>\n",
       "      <th>3133</th>\n",
       "      <td>Weston</td>\n",
       "      <td>West</td>\n",
       "      <td>Wyoming</td>\n",
       "      <td>29%</td>\n",
       "      <td>18%</td>\n",
       "      <td>18%</td>\n",
       "      <td>9%</td>\n",
       "      <td>13%</td>\n",
       "      <td>1</td>\n",
       "      <td>25%</td>\n",
       "    </tr>\n",
       "    <tr>\n",
       "      <th>3134</th>\n",
       "      <td>Niobrara</td>\n",
       "      <td>West</td>\n",
       "      <td>Wyoming</td>\n",
       "      <td>27%</td>\n",
       "      <td>18%</td>\n",
       "      <td>18%</td>\n",
       "      <td>10%</td>\n",
       "      <td>15%</td>\n",
       "      <td>1</td>\n",
       "      <td>27%</td>\n",
       "    </tr>\n",
       "    <tr>\n",
       "      <th>3135</th>\n",
       "      <td>Big Horn</td>\n",
       "      <td>West</td>\n",
       "      <td>Wyoming</td>\n",
       "      <td>28%</td>\n",
       "      <td>16%</td>\n",
       "      <td>15%</td>\n",
       "      <td>10%</td>\n",
       "      <td>12%</td>\n",
       "      <td>1</td>\n",
       "      <td>23%</td>\n",
       "    </tr>\n",
       "    <tr>\n",
       "      <th>3136</th>\n",
       "      <td>Fremont</td>\n",
       "      <td>West</td>\n",
       "      <td>Wyoming</td>\n",
       "      <td>26%</td>\n",
       "      <td>19%</td>\n",
       "      <td>20%</td>\n",
       "      <td>10%</td>\n",
       "      <td>14%</td>\n",
       "      <td>1</td>\n",
       "      <td>25%</td>\n",
       "    </tr>\n",
       "    <tr>\n",
       "      <th>3137</th>\n",
       "      <td>Goshen</td>\n",
       "      <td>West</td>\n",
       "      <td>Wyoming</td>\n",
       "      <td>28%</td>\n",
       "      <td>18%</td>\n",
       "      <td>19%</td>\n",
       "      <td>10%</td>\n",
       "      <td>14%</td>\n",
       "      <td>1</td>\n",
       "      <td>27%</td>\n",
       "    </tr>\n",
       "    <tr>\n",
       "      <th>3138</th>\n",
       "      <td>Platte</td>\n",
       "      <td>West</td>\n",
       "      <td>Wyoming</td>\n",
       "      <td>27%</td>\n",
       "      <td>17%</td>\n",
       "      <td>19%</td>\n",
       "      <td>10%</td>\n",
       "      <td>13%</td>\n",
       "      <td>1</td>\n",
       "      <td>27%</td>\n",
       "    </tr>\n",
       "    <tr>\n",
       "      <th>3139</th>\n",
       "      <td>Washakie</td>\n",
       "      <td>West</td>\n",
       "      <td>Wyoming</td>\n",
       "      <td>25%</td>\n",
       "      <td>16%</td>\n",
       "      <td>16%</td>\n",
       "      <td>11%</td>\n",
       "      <td>12%</td>\n",
       "      <td>1</td>\n",
       "      <td>22%</td>\n",
       "    </tr>\n",
       "    <tr>\n",
       "      <th>3140</th>\n",
       "      <td>Hot Springs</td>\n",
       "      <td>West</td>\n",
       "      <td>Wyoming</td>\n",
       "      <td>25%</td>\n",
       "      <td>16%</td>\n",
       "      <td>17%</td>\n",
       "      <td>11%</td>\n",
       "      <td>14%</td>\n",
       "      <td>1</td>\n",
       "      <td>26%</td>\n",
       "    </tr>\n",
       "  </tbody>\n",
       "</table>\n",
       "</div>"
      ],
      "text/plain": [
       "           County Region    State Adult Obesity (% of pop)  \\\n",
       "3131     Sheridan   West  Wyoming                      25%   \n",
       "3132      Johnson   West  Wyoming                      23%   \n",
       "3133       Weston   West  Wyoming                      29%   \n",
       "3134     Niobrara   West  Wyoming                      27%   \n",
       "3135     Big Horn   West  Wyoming                      28%   \n",
       "3136      Fremont   West  Wyoming                      26%   \n",
       "3137       Goshen   West  Wyoming                      28%   \n",
       "3138       Platte   West  Wyoming                      27%   \n",
       "3139     Washakie   West  Wyoming                      25%   \n",
       "3140  Hot Springs   West  Wyoming                      25%   \n",
       "\n",
       "     Adult Smokers (% of pop) Children in Poverty (% of pop)  \\\n",
       "3131                      16%                            13%   \n",
       "3132                      15%                            12%   \n",
       "3133                      18%                            18%   \n",
       "3134                      18%                            18%   \n",
       "3135                      16%                            15%   \n",
       "3136                      19%                            20%   \n",
       "3137                      18%                            19%   \n",
       "3138                      17%                            19%   \n",
       "3139                      16%                            16%   \n",
       "3140                      16%                            17%   \n",
       "\n",
       "     Diabetic (% of pop) Food Insecure (% of pop)  Number of Records  \\\n",
       "3131                  9%                      13%                  1   \n",
       "3132                  9%                      13%                  1   \n",
       "3133                  9%                      13%                  1   \n",
       "3134                 10%                      15%                  1   \n",
       "3135                 10%                      12%                  1   \n",
       "3136                 10%                      14%                  1   \n",
       "3137                 10%                      14%                  1   \n",
       "3138                 10%                      13%                  1   \n",
       "3139                 11%                      12%                  1   \n",
       "3140                 11%                      14%                  1   \n",
       "\n",
       "     Physically Inactive (% of pop)  \n",
       "3131                            22%  \n",
       "3132                            24%  \n",
       "3133                            25%  \n",
       "3134                            27%  \n",
       "3135                            23%  \n",
       "3136                            25%  \n",
       "3137                            27%  \n",
       "3138                            27%  \n",
       "3139                            22%  \n",
       "3140                            26%  "
      ]
     },
     "execution_count": 29,
     "metadata": {},
     "output_type": "execute_result"
    }
   ],
   "source": [
    "Obesity_data.tail(10)"
   ]
  },
  {
   "cell_type": "code",
   "execution_count": 31,
   "metadata": {},
   "outputs": [
    {
     "data": {
      "text/html": [
       "<div>\n",
       "<style scoped>\n",
       "    .dataframe tbody tr th:only-of-type {\n",
       "        vertical-align: middle;\n",
       "    }\n",
       "\n",
       "    .dataframe tbody tr th {\n",
       "        vertical-align: top;\n",
       "    }\n",
       "\n",
       "    .dataframe thead th {\n",
       "        text-align: right;\n",
       "    }\n",
       "</style>\n",
       "<table border=\"1\" class=\"dataframe\">\n",
       "  <thead>\n",
       "    <tr style=\"text-align: right;\">\n",
       "      <th></th>\n",
       "      <th>Number of Records</th>\n",
       "    </tr>\n",
       "  </thead>\n",
       "  <tbody>\n",
       "    <tr>\n",
       "      <th>count</th>\n",
       "      <td>3141.0</td>\n",
       "    </tr>\n",
       "    <tr>\n",
       "      <th>mean</th>\n",
       "      <td>1.0</td>\n",
       "    </tr>\n",
       "    <tr>\n",
       "      <th>std</th>\n",
       "      <td>0.0</td>\n",
       "    </tr>\n",
       "    <tr>\n",
       "      <th>min</th>\n",
       "      <td>1.0</td>\n",
       "    </tr>\n",
       "    <tr>\n",
       "      <th>25%</th>\n",
       "      <td>1.0</td>\n",
       "    </tr>\n",
       "    <tr>\n",
       "      <th>50%</th>\n",
       "      <td>1.0</td>\n",
       "    </tr>\n",
       "    <tr>\n",
       "      <th>75%</th>\n",
       "      <td>1.0</td>\n",
       "    </tr>\n",
       "    <tr>\n",
       "      <th>max</th>\n",
       "      <td>1.0</td>\n",
       "    </tr>\n",
       "  </tbody>\n",
       "</table>\n",
       "</div>"
      ],
      "text/plain": [
       "       Number of Records\n",
       "count             3141.0\n",
       "mean                 1.0\n",
       "std                  0.0\n",
       "min                  1.0\n",
       "25%                  1.0\n",
       "50%                  1.0\n",
       "75%                  1.0\n",
       "max                  1.0"
      ]
     },
     "execution_count": 31,
     "metadata": {},
     "output_type": "execute_result"
    }
   ],
   "source": [
    "Obesity_data.describe()"
   ]
  },
  {
   "cell_type": "code",
   "execution_count": 48,
   "metadata": {},
   "outputs": [
    {
     "data": {
      "text/html": [
       "<div>\n",
       "<style scoped>\n",
       "    .dataframe tbody tr th:only-of-type {\n",
       "        vertical-align: middle;\n",
       "    }\n",
       "\n",
       "    .dataframe tbody tr th {\n",
       "        vertical-align: top;\n",
       "    }\n",
       "\n",
       "    .dataframe thead th {\n",
       "        text-align: right;\n",
       "    }\n",
       "</style>\n",
       "<table border=\"1\" class=\"dataframe\">\n",
       "  <thead>\n",
       "    <tr style=\"text-align: right;\">\n",
       "      <th></th>\n",
       "      <th>Adult Obesity (% of pop)</th>\n",
       "      <th>Physically Inactive (% of pop)</th>\n",
       "    </tr>\n",
       "  </thead>\n",
       "  <tbody>\n",
       "    <tr>\n",
       "      <th>1</th>\n",
       "      <td>32%</td>\n",
       "      <td>30%</td>\n",
       "    </tr>\n",
       "    <tr>\n",
       "      <th>2</th>\n",
       "      <td>31%</td>\n",
       "      <td>26%</td>\n",
       "    </tr>\n",
       "    <tr>\n",
       "      <th>3</th>\n",
       "      <td>34%</td>\n",
       "      <td>24%</td>\n",
       "    </tr>\n",
       "    <tr>\n",
       "      <th>4</th>\n",
       "      <td>32%</td>\n",
       "      <td>27%</td>\n",
       "    </tr>\n",
       "    <tr>\n",
       "      <th>5</th>\n",
       "      <td>30%</td>\n",
       "      <td>28%</td>\n",
       "    </tr>\n",
       "    <tr>\n",
       "      <th>6</th>\n",
       "      <td>30%</td>\n",
       "      <td>30%</td>\n",
       "    </tr>\n",
       "    <tr>\n",
       "      <th>7</th>\n",
       "      <td>32%</td>\n",
       "      <td>27%</td>\n",
       "    </tr>\n",
       "    <tr>\n",
       "      <th>8</th>\n",
       "      <td>29%</td>\n",
       "      <td>25%</td>\n",
       "    </tr>\n",
       "    <tr>\n",
       "      <th>9</th>\n",
       "      <td>27%</td>\n",
       "      <td>21%</td>\n",
       "    </tr>\n",
       "  </tbody>\n",
       "</table>\n",
       "</div>"
      ],
      "text/plain": [
       "  Adult Obesity (% of pop) Physically Inactive (% of pop)\n",
       "1                      32%                            30%\n",
       "2                      31%                            26%\n",
       "3                      34%                            24%\n",
       "4                      32%                            27%\n",
       "5                      30%                            28%\n",
       "6                      30%                            30%\n",
       "7                      32%                            27%\n",
       "8                      29%                            25%\n",
       "9                      27%                            21%"
      ]
     },
     "execution_count": 48,
     "metadata": {},
     "output_type": "execute_result"
    }
   ],
   "source": [
    "Obesity_data.iloc[1:10,[3,9]]"
   ]
  },
  {
   "cell_type": "code",
   "execution_count": 54,
   "metadata": {},
   "outputs": [
    {
     "data": {
      "text/html": [
       "<div>\n",
       "<style scoped>\n",
       "    .dataframe tbody tr th:only-of-type {\n",
       "        vertical-align: middle;\n",
       "    }\n",
       "\n",
       "    .dataframe tbody tr th {\n",
       "        vertical-align: top;\n",
       "    }\n",
       "\n",
       "    .dataframe thead th {\n",
       "        text-align: right;\n",
       "    }\n",
       "</style>\n",
       "<table border=\"1\" class=\"dataframe\">\n",
       "  <thead>\n",
       "    <tr style=\"text-align: right;\">\n",
       "      <th></th>\n",
       "      <th>County</th>\n",
       "      <th>Region</th>\n",
       "    </tr>\n",
       "  </thead>\n",
       "  <tbody>\n",
       "    <tr>\n",
       "      <th>1</th>\n",
       "      <td>Alexander</td>\n",
       "      <td>Midwest</td>\n",
       "    </tr>\n",
       "    <tr>\n",
       "      <th>2</th>\n",
       "      <td>Bond</td>\n",
       "      <td>Midwest</td>\n",
       "    </tr>\n",
       "    <tr>\n",
       "      <th>3</th>\n",
       "      <td>Boone</td>\n",
       "      <td>Midwest</td>\n",
       "    </tr>\n",
       "    <tr>\n",
       "      <th>4</th>\n",
       "      <td>Brown</td>\n",
       "      <td>Midwest</td>\n",
       "    </tr>\n",
       "    <tr>\n",
       "      <th>5</th>\n",
       "      <td>Bureau</td>\n",
       "      <td>Midwest</td>\n",
       "    </tr>\n",
       "    <tr>\n",
       "      <th>6</th>\n",
       "      <td>Calhoun</td>\n",
       "      <td>Midwest</td>\n",
       "    </tr>\n",
       "    <tr>\n",
       "      <th>7</th>\n",
       "      <td>Carroll</td>\n",
       "      <td>Midwest</td>\n",
       "    </tr>\n",
       "    <tr>\n",
       "      <th>8</th>\n",
       "      <td>Cass</td>\n",
       "      <td>Midwest</td>\n",
       "    </tr>\n",
       "    <tr>\n",
       "      <th>9</th>\n",
       "      <td>Champaign</td>\n",
       "      <td>Midwest</td>\n",
       "    </tr>\n",
       "    <tr>\n",
       "      <th>10</th>\n",
       "      <td>Christian</td>\n",
       "      <td>Midwest</td>\n",
       "    </tr>\n",
       "  </tbody>\n",
       "</table>\n",
       "</div>"
      ],
      "text/plain": [
       "       County   Region\n",
       "1   Alexander  Midwest\n",
       "2        Bond  Midwest\n",
       "3       Boone  Midwest\n",
       "4       Brown  Midwest\n",
       "5      Bureau  Midwest\n",
       "6     Calhoun  Midwest\n",
       "7     Carroll  Midwest\n",
       "8        Cass  Midwest\n",
       "9   Champaign  Midwest\n",
       "10  Christian  Midwest"
      ]
     },
     "execution_count": 54,
     "metadata": {},
     "output_type": "execute_result"
    }
   ],
   "source": [
    "Obesity_data.loc[1:10,(\"County\", \"Region\")]"
   ]
  },
  {
   "cell_type": "code",
   "execution_count": 75,
   "metadata": {},
   "outputs": [
    {
     "data": {
      "text/plain": [
       "0       False\n",
       "1       False\n",
       "2       False\n",
       "3       False\n",
       "4       False\n",
       "        ...  \n",
       "3136    False\n",
       "3137    False\n",
       "3138    False\n",
       "3139    False\n",
       "3140    False\n",
       "Name: County, Length: 3141, dtype: bool"
      ]
     },
     "execution_count": 75,
     "metadata": {},
     "output_type": "execute_result"
    }
   ],
   "source": [
    "Obesity_data['County'] == 'Bond'"
   ]
  },
  {
   "cell_type": "code",
   "execution_count": 82,
   "metadata": {},
   "outputs": [],
   "source": [
    "s1 = Obesity_data['County'] == 'Alexander'"
   ]
  },
  {
   "cell_type": "code",
   "execution_count": 83,
   "metadata": {},
   "outputs": [
    {
     "data": {
      "text/plain": [
       "0       False\n",
       "1       False\n",
       "2       False\n",
       "3       False\n",
       "4       False\n",
       "        ...  \n",
       "3136    False\n",
       "3137    False\n",
       "3138    False\n",
       "3139    False\n",
       "3140    False\n",
       "Name: County, Length: 3141, dtype: bool"
      ]
     },
     "execution_count": 83,
     "metadata": {},
     "output_type": "execute_result"
    }
   ],
   "source": [
    "s1"
   ]
  },
  {
   "cell_type": "code",
   "execution_count": 90,
   "metadata": {},
   "outputs": [],
   "source": [
    "from matplotlib import pyplot as plt\n",
    "import numpy as np"
   ]
  },
  {
   "cell_type": "code",
   "execution_count": 92,
   "metadata": {},
   "outputs": [],
   "source": [
    "x = np.arange(1,21,2)"
   ]
  },
  {
   "cell_type": "code",
   "execution_count": 93,
   "metadata": {},
   "outputs": [
    {
     "data": {
      "text/plain": [
       "array([ 1,  3,  5,  7,  9, 11, 13, 15, 17, 19])"
      ]
     },
     "execution_count": 93,
     "metadata": {},
     "output_type": "execute_result"
    }
   ],
   "source": [
    "x"
   ]
  },
  {
   "cell_type": "code",
   "execution_count": 161,
   "metadata": {},
   "outputs": [],
   "source": [
    "y0 = x*1\n",
    "y1 = x*2\n",
    "y2 = x*3\n",
    "y3 = x*4\n",
    "y4 = x*5\n",
    "y5 = x*6\n",
    "y6 = x*7"
   ]
  },
  {
   "cell_type": "code",
   "execution_count": null,
   "metadata": {},
   "outputs": [],
   "source": []
  },
  {
   "cell_type": "code",
   "execution_count": 142,
   "metadata": {},
   "outputs": [
    {
     "data": {
      "text/plain": [
       "array([  1,   9,  25,  49,  81, 121, 169, 225, 289, 361], dtype=int32)"
      ]
     },
     "execution_count": 142,
     "metadata": {},
     "output_type": "execute_result"
    }
   ],
   "source": [
    "y1"
   ]
  },
  {
   "cell_type": "code",
   "execution_count": 162,
   "metadata": {},
   "outputs": [
    {
     "data": {
      "image/png": "[encoded data removed]",
      "text/plain": [
       "<Figure size 432x288 with 1 Axes>"
      ]
     },
     "metadata": {
      "needs_background": "light"
     },
     "output_type": "display_data"
    }
   ],
   "source": [
    "plt.plot(x,y0,color = 'red', linewidth=2)\n",
    "plt.plot(x,y1,color = 'Green', linewidth=2)\n",
    "plt.plot(x,y2,color = 'Orange', linewidth=2)\n",
    "plt.plot(x,y3,color = 'blue', linewidth=2)\n",
    "plt.plot(x,y4,color = 'purple', linewidth=2)\n",
    "plt.plot(x,y5,color = 'indigo', linewidth=2)\n",
    "plt.plot(x,y6,color = 'pink', linewidth=2)\n",
    "plt.title('Line Plot')\n",
    "plt.xlabel('X-axis')\n",
    "plt.ylabel('Y-axis')\n",
    "plt.grid(False)\n",
    "plt.show()"
   ]
  },
  {
   "cell_type": "code",
   "execution_count": 177,
   "metadata": {},
   "outputs": [],
   "source": [
    "s1 = np.sin(x)\n",
    "s2 = np.sin(x*2)\n",
    "s3 = np.sin(x*1.5)\n",
    "s4 = np.cos(x)\n",
    "s5 = np.cos(x*2)\n",
    "s6 = np.cos(x*1.5)"
   ]
  },
  {
   "cell_type": "code",
   "execution_count": 178,
   "metadata": {},
   "outputs": [
    {
     "data": {
      "text/plain": [
       "[<matplotlib.lines.Line2D at 0xf190ef0>]"
      ]
     },
     "execution_count": 178,
     "metadata": {},
     "output_type": "execute_result"
    },
    {
     "data": {
      "image/png": "[encoded data removed]",
      "text/plain": [
       "<Figure size 432x288 with 1 Axes>"
      ]
     },
     "metadata": {
      "needs_background": "light"
     },
     "output_type": "display_data"
    }
   ],
   "source": [
    "plt.plot(x,s1,color = 'pink', linewidth=2)\n",
    "plt.plot(x,s2,color = 'red', linewidth=2)\n",
    "plt.plot(x,s3,color = 'Green', linewidth=2)\n",
    "plt.plot(x,s4,color = 'blue', linewidth=2)\n",
    "plt.plot(x,s5,color = 'orange', linewidth=2)\n",
    "plt.plot(x,s6,color = 'purple', linewidth=2)"
   ]
  }
 ],
 "metadata": {
  "kernelspec": {
   "display_name": "Python 3",
   "language": "python",
   "name": "python3"
  },
  "language_info": {
   "codemirror_mode": {
    "name": "ipython",
    "version": 3
   },
   "file_extension": ".py",
   "mimetype": "text/x-python",
   "name": "python",
   "nbconvert_exporter": "python",
   "pygments_lexer": "ipython3",
   "version": "3.7.6"
  }
 },
 "nbformat": 4,
 "nbformat_minor": 4
}
