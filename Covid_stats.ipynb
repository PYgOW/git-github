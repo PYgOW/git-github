{
 "cells": [
  {
   "cell_type": "code",
   "execution_count": 3,
   "metadata": {},
   "outputs": [
    {
     "name": "stdout",
     "output_type": "stream",
     "text": [
      "Total COVID-19 cases in the world: 244,232,863 \n",
      "Total deaths due to COVID-19 in the world: 4,961,777\n",
      "Total COVID-19 patients recovered in the world: 221,279,623\n"
     ]
    }
   ],
   "source": [
    "#This is to show simple COVID19 info fetching from worldometers site using lxml\n",
    "# The main motivation to use lxml in place of bs4 is that it is faster and therefore\n",
    "#more convenient to use in Python web projects (e.g. Django or Flask-based)\n",
    "#\"\"\"\n",
    "\n",
    "from collections import namedtuple\n",
    "\n",
    "import requests\n",
    "from lxml import html  # type: ignore\n",
    "\n",
    "covid_data = namedtuple(\"covid_data\", \"cases deaths recovered\")\n",
    "\n",
    "\n",
    "def covid_stats(url: str = \"https://www.worldometers.info/coronavirus/\") -> covid_data:\n",
    "    xpath_str = '//div[@class = \"maincounter-number\"]/span/text()'\n",
    "    return covid_data(*html.fromstring(requests.get(url).content).xpath(xpath_str))\n",
    "\n",
    "\n",
    "fmt = \"\"\"Total COVID-19 cases in the world: {}\n",
    "Total deaths due to COVID-19 in the world: {}\n",
    "Total COVID-19 patients recovered in the world: {}\"\"\"\n",
    "print(fmt.format(*covid_stats()))\n"
   ]
  },
  {
   "cell_type": "code",
   "execution_count": null,
   "metadata": {},
   "outputs": [],
   "source": []
  }
 ],
 "metadata": {
  "kernelspec": {
   "display_name": "Python 3",
   "language": "python",
   "name": "python3"
  },
  "language_info": {
   "codemirror_mode": {
    "name": "ipython",
    "version": 3
   },
   "file_extension": ".py",
   "mimetype": "text/x-python",
   "name": "python",
   "nbconvert_exporter": "python",
   "pygments_lexer": "ipython3",
   "version": "3.7.6"
  }
 },
 "nbformat": 4,
 "nbformat_minor": 4
}
