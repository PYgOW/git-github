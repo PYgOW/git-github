{
 "cells": [
  {
   "cell_type": "code",
   "execution_count": 6,
   "metadata": {},
   "outputs": [
    {
     "name": "stdout",
     "output_type": "stream",
     "text": [
      "Europe Floor? 7\n",
      "US Floor 8\n"
     ]
    }
   ],
   "source": [
    "inp = input('Europe Floor? ')\n",
    "usf = int(inp) + 1\n",
    "print('US Floor', usf)\n"
   ]
  },
  {
   "cell_type": "code",
   "execution_count": 8,
   "metadata": {},
   "outputs": [
    {
     "name": "stdout",
     "output_type": "stream",
     "text": [
      "Who are you? GGGGG\n",
      "Welcome GGGGG\n"
     ]
    }
   ],
   "source": [
    "Name = input('Who are you? ')\n",
    "print('Welcome', Name)"
   ]
  },
  {
   "cell_type": "code",
   "execution_count": 9,
   "metadata": {},
   "outputs": [],
   "source": [
    "#ancillary information"
   ]
  },
  {
   "cell_type": "code",
   "execution_count": 10,
   "metadata": {},
   "outputs": [],
   "source": [
    "#Conditional Program"
   ]
  },
  {
   "cell_type": "code",
   "execution_count": null,
   "metadata": {},
   "outputs": [],
   "source": [
    "#I want to see even or odd number\n",
    "ink = input('Enter any number ')\n",
    "inki = int(ink)\n",
    "if (inki % 2) == 0:\n",
    "    print('It is an even number')\n",
    "if (inki % 2) != 0:\n",
    "    print('It is an odd number')"
   ]
  },
  {
   "cell_type": "code",
   "execution_count": null,
   "metadata": {},
   "outputs": [],
   "source": []
  },
  {
   "cell_type": "code",
   "execution_count": 40,
   "metadata": {},
   "outputs": [
    {
     "name": "stdout",
     "output_type": "stream",
     "text": [
      "Enter any number2\n"
     ]
    },
    {
     "data": {
      "text/plain": [
       "2"
      ]
     },
     "execution_count": 40,
     "metadata": {},
     "output_type": "execute_result"
    }
   ],
   "source": [
    "ink = input('Enter any number')\n",
    "inki = int(ink)\n",
    "inki"
   ]
  },
  {
   "cell_type": "code",
   "execution_count": 43,
   "metadata": {},
   "outputs": [
    {
     "name": "stdout",
     "output_type": "stream",
     "text": [
      "Enter your age 25\n",
      "You are eligible\n"
     ]
    }
   ],
   "source": [
    "#In here I have learned the importance of indentation\n",
    "inp = input('Enter your age ')\n",
    "inpi = int(inp)\n",
    "if inpi >= 25:\n",
    "    print('You are eligible')\n",
    "    #inpi = int(inp)\n",
    "if inpi < 25:\n",
    "        print('you are not eligible')    "
   ]
  },
  {
   "cell_type": "markdown",
   "metadata": {},
   "source": []
  },
  {
   "cell_type": "code",
   "execution_count": null,
   "metadata": {},
   "outputs": [],
   "source": [
    "#inp = input('enter a number between 0 to 9')\n",
    "i#npi = int(inp)\n",
    "if inpi < 2 :\n",
    "    print('Small')\n",
    "elif inpi < 9:\n",
    "    print('Medium')\n",
    "else :\n",
    "    print('Large')\n",
    "Print('All done')"
   ]
  },
  {
   "cell_type": "code",
   "execution_count": null,
   "metadata": {},
   "outputs": [],
   "source": [
    "#try and #except"
   ]
  },
  {
   "cell_type": "code",
   "execution_count": null,
   "metadata": {},
   "outputs": [],
   "source": [
    "#Find the error detection\n",
    "\n",
    "rawstr = input('Enter a number')\n",
    "try:\n",
    "    ival = int(rawstr)\n",
    "except:\n",
    "    ival = -1\n",
    "\n",
    "if ival < 0:\n",
    "    print('Nice Wok')\n",
    "else :\n",
    "    print('Enter a valid number')"
   ]
  },
  {
   "cell_type": "code",
   "execution_count": null,
   "metadata": {},
   "outputs": [],
   "source": []
  }
 ],
 "metadata": {
  "kernelspec": {
   "display_name": "Python 3",
   "language": "python",
   "name": "python3"
  },
  "language_info": {
   "codemirror_mode": {
    "name": "ipython",
    "version": 3
   },
   "file_extension": ".py",
   "mimetype": "text/x-python",
   "name": "python",
   "nbconvert_exporter": "python",
   "pygments_lexer": "ipython3",
   "version": "3.7.6"
  }
 },
 "nbformat": 4,
 "nbformat_minor": 4
}
