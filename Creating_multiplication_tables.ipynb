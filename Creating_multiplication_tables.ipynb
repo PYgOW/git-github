{
 "cells": [
  {
   "cell_type": "code",
   "execution_count": 11,
   "metadata": {},
   "outputs": [
    {
     "name": "stdout",
     "output_type": "stream",
     "text": [
      "99 x 1 = 99\n",
      "99 x 2 = 198\n",
      "99 x 3 = 297\n",
      "99 x 4 = 396\n",
      "99 x 5 = 495\n",
      "99 x 6 = 594\n",
      "99 x 7 = 693\n",
      "99 x 8 = 792\n",
      "99 x 9 = 891\n",
      "99 x 10 = 990\n"
     ]
    }
   ],
   "source": [
    "\n",
    "\n",
    "      Num = 99\n",
    "for i in range(1, 11):\n",
    "   print(Num, 'x', i, '=', Num*i)"
   ]
  },
  {
   "cell_type": "code",
   "execution_count": 17,
   "metadata": {},
   "outputs": [],
   "source": [
    "def table(a):\n",
    "     for i in range(1,11):\n",
    "        print(a, 'X', i, '=', a*i)"
   ]
  },
  {
   "cell_type": "code",
   "execution_count": 18,
   "metadata": {},
   "outputs": [
    {
     "name": "stdout",
     "output_type": "stream",
     "text": [
      "56 X 1 = 56\n",
      "56 X 2 = 112\n",
      "56 X 3 = 168\n",
      "56 X 4 = 224\n",
      "56 X 5 = 280\n",
      "56 X 6 = 336\n",
      "56 X 7 = 392\n",
      "56 X 8 = 448\n",
      "56 X 9 = 504\n",
      "56 X 10 = 560\n"
     ]
    }
   ],
   "source": [
    "table(56)"
   ]
  },
  {
   "cell_type": "code",
   "execution_count": null,
   "metadata": {},
   "outputs": [],
   "source": []
  }
 ],
 "metadata": {
  "kernelspec": {
   "display_name": "Python 3",
   "language": "python",
   "name": "python3"
  },
  "language_info": {
   "codemirror_mode": {
    "name": "ipython",
    "version": 3
   },
   "file_extension": ".py",
   "mimetype": "text/x-python",
   "name": "python",
   "nbconvert_exporter": "python",
   "pygments_lexer": "ipython3",
   "version": "3.7.6"
  }
 },
 "nbformat": 4,
 "nbformat_minor": 4
}
